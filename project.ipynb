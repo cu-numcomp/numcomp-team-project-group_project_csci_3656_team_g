{
 "cells": [
  {
   "cell_type": "markdown",
   "metadata": {},
   "source": [
    "# Project: SVD using Fixed Point Iterations\n",
    "\n",
    "## Group members\n",
    "* Jake Swartwout\n",
    "* Lara Chunko\n",
    "* Yunhan Yang"
   ]
  },
  {
   "cell_type": "markdown",
   "metadata": {},
   "source": [
    "The link to the repository: https://github.com/j2kun/svd/blob/master/svd.py"
   ]
  },
  {
   "cell_type": "markdown",
   "metadata": {},
   "source": [
    "At a high level, this software performs the \"Singular Value Decomposition\" (SVD) of a matrix. This means that it is splitting any matrix A (it doesn't even need to be square) into 3 separate matrices. We represent it like this:\n",
    "\n",
    "$$\n",
    "A = U \\Sigma V^T\n",
    "$$\n",
    "\n",
    "With the following properties:\n",
    "\n",
    "$U$ and $V$ have orthonormal columns\n",
    "\n",
    "$\\Sigma$ is a diagonal matrix\n",
    "\n",
    "This may seem familiar to diagonalization, as it does something similar. One of the main benefits however, is that our matrix A does not have to be square for SVD"
   ]
  },
  {
   "cell_type": "markdown",
   "metadata": {},
   "source": [
    "- accuracy for size of matrix\n",
    "- accuracy for different random values\n",
    "- convergence tests\n",
    "- Lara: runtime vs standard software (linalg.svd?)\n",
    "- compare multiple svd packages?\n",
    "- Jake: break it (have two equal eigenvalues?)"
   ]
  },
  {
   "cell_type": "markdown",
   "metadata": {},
   "source": [
    "Multiply U by UT to see if it's the identity?"
   ]
  },
  {
   "cell_type": "code",
   "execution_count": 77,
   "metadata": {},
   "outputs": [],
   "source": [
    "from svdMaster.svd import svd as testSVD\n",
    "from numpy.linalg import svd as npSVD\n",
    "from scipy.linalg import svd as scipySVD\n",
    "\n",
    "import numpy as np\n",
    "\n",
    "#create a timer\n",
    "import timeit as t"
   ]
  },
  {
   "cell_type": "code",
   "execution_count": 100,
   "metadata": {
    "scrolled": true
   },
   "outputs": [
    {
     "name": "stdout",
     "output_type": "stream",
     "text": [
      "converged in 6 iterations!\n",
      "converged in 13 iterations!\n",
      "converged in 15 iterations!\n",
      "converged in 35 iterations!\n",
      "converged in 307 iterations!\n",
      "converged in 18 iterations!\n",
      "converged in 28 iterations!\n",
      "converged in 9 iterations!\n",
      "converged in 3 iterations!\n",
      "converged in 2 iterations!\n",
      "testSVD runtime:  -0.0002452970002195798\n",
      "scipySVD runtime:  -0.0005172870000933472\n",
      "npSVD runtime:  -0.0005172870000933472\n"
     ]
    }
   ],
   "source": [
    "#test array\n",
    "A = np.random.rand(10,10) \n",
    "\n",
    "#applying testSVD\n",
    "start_t = t.timeit()\n",
    "test_sigma, test_U, test_VT = testSVD(A)\n",
    "end_t = t.timeit()\n",
    "test_time = end_t - start_t\n",
    "print(\"testSVD runtime: \", test_time)\n",
    "test_recombined = test_U @ np.diag(test_sigma) @ test_VT\n",
    "\n",
    "#applying scipySVD \n",
    "start_t = t.timeit()\n",
    "scipy_U, scipy_sigma, scipy_VT = scipySVD(A) \n",
    "end_t = t.timeit()\n",
    "scipy_time = end_t - start_t\n",
    "print(\"scipySVD runtime: \", scipy_time)\n",
    "scipy_recombined = scipy_U @ np.diag(scipy_sigma) @ scipy_VT\n",
    "\n",
    "#applying npSVD\n",
    "start_t = t.timeit()\n",
    "np_U, np_sigma, np_VT = npSVD(A)\n",
    "end_t = t.timeit()\n",
    "np_time = end_t - start_t\n",
    "print(\"npSVD runtime: \", scipy_time)\n",
    "np_recombined = np_U @ np.diag(np_U) @ np_VT\n",
    "\n",
    "#testing testSVD versus scipySVD\n",
    "#print(test_recombined == scipy_recombined)\n",
    "#TO DO: loop through and find the difference between the two versions\n",
    "\n",
    "#testing testSVD versus npSVD\n",
    "#print(test_recombined == np_recombined)\n",
    "#TO DO: loop through and find the difference between the two versions\n",
    "\n",
    "#testing scipySVD versus npSVD\n",
    "#print(scipy_recombined == np_recombined)\n",
    "#TO DO: loop through and find the difference between the two versions\n"
   ]
  },
  {
   "cell_type": "code",
   "execution_count": 73,
   "metadata": {},
   "outputs": [],
   "source": [
    "def split_combine_test(matrix):\n",
    "    sigma, u, v = testSVD(A)\n",
    "    return u @ np.diag(sigma) @ v"
   ]
  },
  {
   "cell_type": "markdown",
   "metadata": {},
   "source": [
    "## Breaking it\n",
    "\n",
    "This method does not seem very robust, so we decided to look into a few ways to break it."
   ]
  },
  {
   "cell_type": "markdown",
   "metadata": {},
   "source": [
    "1. My first idea is to have two eigenvalues of the same value. This would mean that the program would not be able to choose one."
   ]
  },
  {
   "cell_type": "code",
   "execution_count": 12,
   "metadata": {},
   "outputs": [
    {
     "data": {
      "text/plain": [
       "2.1359173327318836e-15"
      ]
     },
     "execution_count": 12,
     "metadata": {},
     "output_type": "execute_result"
    }
   ],
   "source": [
    "#generate a random matrix\n",
    "A = np.random.rand(5, 5)\n",
    "#get the length of the first and second columns\n",
    "length1 = np.linalg.norm(A[:, 0])\n",
    "length2 = np.linalg.norm(A[:, 1])\n",
    "#scale them to be the same length\n",
    "A[:, 0] *= length2\n",
    "A[:, 1] *= length1\n",
    "Aprime = split_combine_test(A)\n",
    "np.linalg.norm(Aprime - A)"
   ]
  },
  {
   "cell_type": "markdown",
   "metadata": {},
   "source": [
    "2. Another idea would be to have all of them be the same length\n",
    "3. We could also test for a rotation\n",
    "4. Or test a matrix where two columns are at a very similar angle\n",
    "5. Or a matrix where two columns are just scaled versions of each other"
   ]
  },
  {
   "cell_type": "markdown",
   "metadata": {},
   "source": [
    "---"
   ]
  },
  {
   "cell_type": "markdown",
   "metadata": {},
   "source": [
    "The following prompts may be useful, but you don't have to use them.\n",
    "\n",
    "## Introduction\n",
    "\n",
    "This method of SVD seems both unstable and inefficient, so we seek to see how accurate it as compared to the standard methods.\n",
    "\n",
    "Describe the objective of your study, citing prior work as appropriate (papers, websites, etc.).  There is no requirement on citation style, but please try to be consistent.\n",
    "\n",
    "## Methods\n",
    "\n",
    "## Results and interpretation\n",
    "\n",
    "## Conclusions and open questions"
   ]
  }
 ],
 "metadata": {
  "kernelspec": {
   "display_name": "Python 3",
   "language": "python",
   "name": "python3"
  },
  "language_info": {
   "codemirror_mode": {
    "name": "ipython",
    "version": 3
   },
   "file_extension": ".py",
   "mimetype": "text/x-python",
   "name": "python",
   "nbconvert_exporter": "python",
   "pygments_lexer": "ipython3",
   "version": "3.7.3"
  }
 },
 "nbformat": 4,
 "nbformat_minor": 4
}
