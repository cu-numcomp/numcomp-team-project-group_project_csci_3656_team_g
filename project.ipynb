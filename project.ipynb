{
 "cells": [
  {
   "cell_type": "markdown",
   "metadata": {},
   "source": [
    "# Project: SVD using Fixed Point Iterations\n",
    "\n",
    "## Group members\n",
    "* Jake Swartwout\n",
    "* Lara Chunko\n",
    "* Yunhan Yang"
   ]
  },
  {
   "cell_type": "markdown",
   "metadata": {},
   "source": [
    "The link to the repository: https://github.com/j2kun/svd/blob/master/svd.py"
   ]
  },
  {
   "cell_type": "markdown",
   "metadata": {},
   "source": [
    "At a high level, this software performs the \"Singular Value Decomposition\" (SVD) of a matrix. This means that it is splitting any matrix A (it doesn't even need to be square) into 3 separate matrices. We represent it like this:\n",
    "\n",
    "$$\n",
    "A = U \\Sigma V^T\n",
    "$$\n",
    "\n",
    "With the following properties:\n",
    "\n",
    "$U$ and $V$ have orthonormal columns\n",
    "\n",
    "$\\Sigma$ is a diagonal matrix\n",
    "\n",
    "This may seem familiar to diagonalization, as it does something similar. One of the main benefits however, is that our matrix A does not have to be square for SVD"
   ]
  },
  {
   "cell_type": "markdown",
   "metadata": {},
   "source": [
    "- accuracy for size of matrix\n",
    "- accuracy for different random values\n",
    "- convergence tests\n",
    "- Lara: runtime vs standard software (linalg.svd?)\n",
    "- compare multiple svd packages?\n",
    "- Jake: break it (have two equal eigenvalues?)"
   ]
  },
  {
   "cell_type": "code",
   "execution_count": 23,
   "metadata": {},
   "outputs": [],
   "source": [
    "from svd.svd import svd as testSVD\n",
    "from numpy.linalg import svd as npSVD\n",
    "from scipy.linalg import svd as scipySVD\n",
    "\n",
    "import numpy as np"
   ]
  },
  {
   "cell_type": "code",
   "execution_count": 24,
   "metadata": {},
   "outputs": [
    {
     "data": {
      "text/plain": [
       "<function svd.svd.svd(A, k=None, epsilon=1e-10)>"
      ]
     },
     "execution_count": 24,
     "metadata": {},
     "output_type": "execute_result"
    }
   ],
   "source": [
    "testSVD"
   ]
  },
  {
   "cell_type": "code",
   "execution_count": 18,
   "metadata": {},
   "outputs": [
    {
     "data": {
      "text/plain": [
       "<function numpy.linalg.svd(a, full_matrices=True, compute_uv=True)>"
      ]
     },
     "execution_count": 18,
     "metadata": {},
     "output_type": "execute_result"
    }
   ],
   "source": [
    "npSVD"
   ]
  },
  {
   "cell_type": "code",
   "execution_count": 19,
   "metadata": {},
   "outputs": [
    {
     "data": {
      "text/plain": [
       "<function scipy.linalg.decomp_svd.svd(a, full_matrices=True, compute_uv=True, overwrite_a=False, check_finite=True, lapack_driver='gesdd')>"
      ]
     },
     "execution_count": 19,
     "metadata": {},
     "output_type": "execute_result"
    }
   ],
   "source": [
    "scipySVD"
   ]
  },
  {
   "cell_type": "code",
   "execution_count": 26,
   "metadata": {
    "scrolled": true
   },
   "outputs": [
    {
     "name": "stdout",
     "output_type": "stream",
     "text": [
      "converged in 6 iterations!\n",
      "converged in 22 iterations!\n",
      "converged in 53 iterations!\n",
      "converged in 14 iterations!\n",
      "converged in 40 iterations!\n",
      "converged in 22 iterations!\n",
      "converged in 15 iterations!\n",
      "converged in 10 iterations!\n",
      "converged in 5 iterations!\n",
      "converged in 2 iterations!\n"
     ]
    }
   ],
   "source": [
    "A = np.random.rand(10,10)\n",
    "sigma, u, v = testSVD(A)\n",
    "recombined = u @ np.diag(sigma) @ v"
   ]
  },
  {
   "cell_type": "markdown",
   "metadata": {},
   "source": [
    "The following prompts may be useful, but you don't have to use them.\n",
    "\n",
    "## Introduction\n",
    "\n",
    "This method of SVD seems both unstable and inefficient, so we seek to see how accurate it as compared to the standard methods.\n",
    "\n",
    "Describe the objective of your study, citing prior work as appropriate (papers, websites, etc.).  There is no requirement on citation style, but please try to be consistent.\n",
    "\n",
    "## Methods\n",
    "\n",
    "## Results and interpretation\n",
    "\n",
    "## Conclusions and open questions"
   ]
  }
 ],
 "metadata": {
  "kernelspec": {
   "display_name": "Python 3",
   "language": "python",
   "name": "python3"
  },
  "language_info": {
   "codemirror_mode": {
    "name": "ipython",
    "version": 3
   },
   "file_extension": ".py",
   "mimetype": "text/x-python",
   "name": "python",
   "nbconvert_exporter": "python",
   "pygments_lexer": "ipython3",
   "version": "3.7.3"
  }
 },
 "nbformat": 4,
 "nbformat_minor": 4
}
